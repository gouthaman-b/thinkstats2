{
 "cells": [
  {
   "cell_type": "markdown",
   "id": "abroad-minneapolis",
   "metadata": {},
   "source": [
    "# Distributions"
   ]
  },
  {
   "cell_type": "markdown",
   "id": "accredited-employer",
   "metadata": {},
   "source": [
    "## Histograms"
   ]
  },
  {
   "cell_type": "code",
   "execution_count": 1,
   "id": "neural-investigation",
   "metadata": {},
   "outputs": [],
   "source": [
    "# import packages\n",
    "\n",
    "import pandas as pd\n",
    "import matplotlib as mpl\n",
    "import matplotlib.pyplot as plt\n",
    "import os"
   ]
  },
  {
   "cell_type": "code",
   "execution_count": 2,
   "id": "appointed-blake",
   "metadata": {
    "scrolled": true
   },
   "outputs": [
    {
     "name": "stdout",
     "output_type": "stream",
     "text": [
      "{1: 2, 2: 1, 3: 4, 4: 2}\n"
     ]
    }
   ],
   "source": [
    "# finding frequency of elements in a list\n",
    "\n",
    "l = [1,1,2,3,3,3,3,4,4]\n",
    "\n",
    "d={}\n",
    "for i in l:\n",
    "    d[i] = d.get(i,0) + 1\n",
    "\n",
    "print(d)"
   ]
  },
  {
   "cell_type": "code",
   "execution_count": 3,
   "id": "regional-edwards",
   "metadata": {},
   "outputs": [
    {
     "data": {
      "text/plain": [
       "(array([2., 0., 0., 1., 0., 0., 4., 0., 0., 2.]),\n",
       " array([1. , 1.3, 1.6, 1.9, 2.2, 2.5, 2.8, 3.1, 3.4, 3.7, 4. ]),\n",
       " <BarContainer object of 10 artists>)"
      ]
     },
     "execution_count": 3,
     "metadata": {},
     "output_type": "execute_result"
    },
    {
     "data": {
      "image/png": "[encoded data removed]",
      "text/plain": [
       "<Figure size 432x288 with 1 Axes>"
      ]
     },
     "metadata": {
      "needs_background": "light"
     },
     "output_type": "display_data"
    }
   ],
   "source": [
    "plt.hist(l)"
   ]
  },
  {
   "cell_type": "code",
   "execution_count": 4,
   "id": "mighty-popularity",
   "metadata": {},
   "outputs": [
    {
     "data": {
      "text/plain": [
       "(array([1., 0., 2., 0., 0., 3., 0., 2., 0., 1.]),\n",
       " array([1. , 1.4, 1.8, 2.2, 2.6, 3. , 3.4, 3.8, 4.2, 4.6, 5. ]),\n",
       " <BarContainer object of 10 artists>)"
      ]
     },
     "execution_count": 4,
     "metadata": {},
     "output_type": "execute_result"
    },
    {
     "data": {
      "image/png": "[encoded data removed]",
      "text/plain": [
       "<Figure size 432x288 with 1 Axes>"
      ]
     },
     "metadata": {
      "needs_background": "light"
     },
     "output_type": "display_data"
    }
   ],
   "source": [
    "l = [1,2,2,3,3,3,4,4,5]\n",
    "plt.hist(l)"
   ]
  },
  {
   "cell_type": "markdown",
   "id": "forbidden-occurrence",
   "metadata": {},
   "source": [
    "## Summarizing Distributions\n",
    "\n",
    "* central tendency\n",
    "* modes\n",
    "* tail\n",
    "* spread\n",
    "* outliers"
   ]
  },
  {
   "cell_type": "code",
   "execution_count": 5,
   "id": "3be795a1",
   "metadata": {},
   "outputs": [],
   "source": [
    "# Mean\n",
    "def Mean(l):\n",
    "    return sum(l)/len(l)\n",
    "\n",
    "# Variance\n",
    "def Variance(l):\n",
    "    mean_value = Mean(l)\n",
    "    sum_value = 0\n",
    "    for i in l:\n",
    "        sum_value+=(i-mean_value)**2\n",
    "    return sum_value/len(l)\n",
    "\n",
    "# Standard Deviation\n",
    "def SDeviation(l):\n",
    "    return Variance(l)**0.5\n",
    "\n",
    "# Cohen's d Effect Size\n",
    "def CohenEffectSize(l1, l2):\n",
    "    sdpooled = ((SDeviation(l1)**2 + SDeviation(l2)**2)/2)**0.5\n",
    "    return (Mean(l1)-Mean(l2))/sdpooled"
   ]
  },
  {
   "cell_type": "code",
   "execution_count": 6,
   "id": "checked-evening",
   "metadata": {},
   "outputs": [
    {
     "name": "stdout",
     "output_type": "stream",
     "text": [
      "2.375\n"
     ]
    }
   ],
   "source": [
    "# Mean\n",
    "\n",
    "l = [1,1,2,2,3,3,3,4]\n",
    "\n",
    "print(Mean(l))"
   ]
  },
  {
   "cell_type": "code",
   "execution_count": 7,
   "id": "present-grade",
   "metadata": {},
   "outputs": [
    {
     "name": "stdout",
     "output_type": "stream",
     "text": [
      "0.984375\n"
     ]
    }
   ],
   "source": [
    "# Variance\n",
    "\n",
    "print(Variance(l) )"
   ]
  },
  {
   "cell_type": "code",
   "execution_count": 8,
   "id": "4153eec8",
   "metadata": {
    "scrolled": true
   },
   "outputs": [
    {
     "name": "stdout",
     "output_type": "stream",
     "text": [
      "0.9921567416492215\n"
     ]
    }
   ],
   "source": [
    "# Standard Deviation\n",
    "\n",
    "print(SDeviation(l))"
   ]
  },
  {
   "cell_type": "code",
   "execution_count": 9,
   "id": "c6606f0b",
   "metadata": {},
   "outputs": [
    {
     "name": "stdout",
     "output_type": "stream",
     "text": [
      "0.11359236684941296\n"
     ]
    }
   ],
   "source": [
    "# Effect Size\n",
    "# Cohen's d Effect Size\n",
    "\n",
    "l1 = [1,1,2,2,3,3,3,4]\n",
    "l2 = [1,1,1,2,2,3,4,4]\n",
    "\n",
    "print(CohenEffectSize(l1, l2))"
   ]
  },
  {
   "cell_type": "code",
   "execution_count": 10,
   "id": "controlled-boating",
   "metadata": {},
   "outputs": [],
   "source": [
    "# read data\n",
    "# source - https://en.wikipedia.org/wiki/List_of_exoplanets_discovered_in_2016\n",
    "\n",
    "csv_file = os.getcwd() + r'/dataset/exoplanets-2016.csv'\n",
    "df = pd.read_csv(csv_file)"
   ]
  },
  {
   "cell_type": "code",
   "execution_count": 11,
   "id": "lasting-stanford",
   "metadata": {},
   "outputs": [
    {
     "data": {
      "text/html": [
       "<div>\n",
       "<style scoped>\n",
       "    .dataframe tbody tr th:only-of-type {\n",
       "        vertical-align: middle;\n",
       "    }\n",
       "\n",
       "    .dataframe tbody tr th {\n",
       "        vertical-align: top;\n",
       "    }\n",
       "\n",
       "    .dataframe thead th {\n",
       "        text-align: right;\n",
       "    }\n",
       "</style>\n",
       "<table border=\"1\" class=\"dataframe\">\n",
       "  <thead>\n",
       "    <tr style=\"text-align: right;\">\n",
       "      <th></th>\n",
       "      <th>Name</th>\n",
       "      <th>Mass (MJ)</th>\n",
       "      <th>Radius (RJ)</th>\n",
       "      <th>Period (days)</th>\n",
       "      <th>Semi-major axis (AU)</th>\n",
       "      <th>Temp. (K)[1]</th>\n",
       "      <th>Discovery method</th>\n",
       "      <th>Distance (ly)</th>\n",
       "      <th>Host star mass (M☉)</th>\n",
       "      <th>Host star temp. (K)</th>\n",
       "      <th>Remarks</th>\n",
       "    </tr>\n",
       "  </thead>\n",
       "  <tbody>\n",
       "    <tr>\n",
       "      <th>0</th>\n",
       "      <td>2MASS J22362452+4751425 b</td>\n",
       "      <td>12.5</td>\n",
       "      <td>NaN</td>\n",
       "      <td>NaN</td>\n",
       "      <td>230</td>\n",
       "      <td>NaN</td>\n",
       "      <td>imaging</td>\n",
       "      <td>240</td>\n",
       "      <td>0.6</td>\n",
       "      <td>4045</td>\n",
       "      <td>member of AB Doradus moving group[2]</td>\n",
       "    </tr>\n",
       "    <tr>\n",
       "      <th>1</th>\n",
       "      <td>BD+15 2375 b</td>\n",
       "      <td>1.061</td>\n",
       "      <td>NaN</td>\n",
       "      <td>153.22</td>\n",
       "      <td>0.576</td>\n",
       "      <td>NaN</td>\n",
       "      <td>radial vel.</td>\n",
       "      <td>2520</td>\n",
       "      <td>1.08</td>\n",
       "      <td>4649</td>\n",
       "      <td>[3]</td>\n",
       "    </tr>\n",
       "    <tr>\n",
       "      <th>2</th>\n",
       "      <td>BD+20 594 b</td>\n",
       "      <td>0.05129</td>\n",
       "      <td>0.199</td>\n",
       "      <td>41.6855</td>\n",
       "      <td>0.241</td>\n",
       "      <td>386</td>\n",
       "      <td>transit</td>\n",
       "      <td>496</td>\n",
       "      <td>0.96</td>\n",
       "      <td>5766</td>\n",
       "      <td>Unusually high density planet[4]</td>\n",
       "    </tr>\n",
       "    <tr>\n",
       "      <th>3</th>\n",
       "      <td>CI Tauri b</td>\n",
       "      <td>11.6+2.9\\n−2.7</td>\n",
       "      <td>NaN</td>\n",
       "      <td>8.9891±0.0202</td>\n",
       "      <td>NaN</td>\n",
       "      <td>NaN</td>\n",
       "      <td>radial vel.</td>\n",
       "      <td>515</td>\n",
       "      <td>0.80±0.02</td>\n",
       "      <td>NaN</td>\n",
       "      <td>Possibly other planets on same orbit[5]</td>\n",
       "    </tr>\n",
       "    <tr>\n",
       "      <th>4</th>\n",
       "      <td>EPIC 211901114 b</td>\n",
       "      <td>&lt;5</td>\n",
       "      <td>0.9±0.5</td>\n",
       "      <td>1.6489±0.0001</td>\n",
       "      <td>0.0211±0.0003</td>\n",
       "      <td>NaN</td>\n",
       "      <td>transit</td>\n",
       "      <td>592±20</td>\n",
       "      <td>0.46±0.02</td>\n",
       "      <td>3440±65</td>\n",
       "      <td>2% false positive probability,[6] host star al...</td>\n",
       "    </tr>\n",
       "  </tbody>\n",
       "</table>\n",
       "</div>"
      ],
      "text/plain": [
       "                        Name       Mass (MJ) Radius (RJ)  Period (days)  \\\n",
       "0  2MASS J22362452+4751425 b            12.5         NaN            NaN   \n",
       "1               BD+15 2375 b           1.061         NaN         153.22   \n",
       "2                BD+20 594 b         0.05129       0.199        41.6855   \n",
       "3                 CI Tauri b  11.6+2.9\\n−2.7         NaN  8.9891±0.0202   \n",
       "4           EPIC 211901114 b              <5     0.9±0.5  1.6489±0.0001   \n",
       "\n",
       "  Semi-major axis (AU) Temp. (K)[1] Discovery method Distance (ly)  \\\n",
       "0                  230          NaN          imaging           240   \n",
       "1                0.576          NaN      radial vel.          2520   \n",
       "2                0.241          386          transit           496   \n",
       "3                  NaN          NaN      radial vel.           515   \n",
       "4        0.0211±0.0003          NaN          transit        592±20   \n",
       "\n",
       "  Host star mass (M☉) Host star temp. (K)  \\\n",
       "0                 0.6                4045   \n",
       "1                1.08                4649   \n",
       "2                0.96                5766   \n",
       "3           0.80±0.02                 NaN   \n",
       "4           0.46±0.02             3440±65   \n",
       "\n",
       "                                             Remarks  \n",
       "0               member of AB Doradus moving group[2]  \n",
       "1                                                [3]  \n",
       "2                   Unusually high density planet[4]  \n",
       "3            Possibly other planets on same orbit[5]  \n",
       "4  2% false positive probability,[6] host star al...  "
      ]
     },
     "execution_count": 11,
     "metadata": {},
     "output_type": "execute_result"
    }
   ],
   "source": [
    "df.head()"
   ]
  },
  {
   "cell_type": "code",
   "execution_count": 12,
   "id": "interested-battlefield",
   "metadata": {},
   "outputs": [
    {
     "name": "stdout",
     "output_type": "stream",
     "text": [
      "transit         1436\n",
      "radial vel.       49\n",
      "microlensing       7\n",
      "imaging            3\n",
      "timing             2\n",
      "Name: Discovery method, dtype: int64\n"
     ]
    }
   ],
   "source": [
    "discovery_methods = df['Discovery method'].value_counts()\n",
    "print(discovery_methods)"
   ]
  },
  {
   "cell_type": "code",
   "execution_count": 13,
   "id": "black-pacific",
   "metadata": {},
   "outputs": [
    {
     "name": "stdout",
     "output_type": "stream",
     "text": [
      "299.4\n"
     ]
    }
   ],
   "source": [
    "print(discovery_methods.mean())"
   ]
  },
  {
   "cell_type": "markdown",
   "id": "other-duplicate",
   "metadata": {},
   "source": [
    "Here the mean value is 299. It is misleading,\n",
    "because all other methods except transit were used to find only a total of 61 planets."
   ]
  }
 ],
 "metadata": {
  "kernelspec": {
   "display_name": "Python 3",
   "language": "python",
   "name": "python3"
  },
  "language_info": {
   "codemirror_mode": {
    "name": "ipython",
    "version": 3
   },
   "file_extension": ".py",
   "mimetype": "text/x-python",
   "name": "python",
   "nbconvert_exporter": "python",
   "pygments_lexer": "ipython3",
   "version": "3.9.1"
  }
 },
 "nbformat": 4,
 "nbformat_minor": 5
}
