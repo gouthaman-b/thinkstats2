{
 "cells": [
  {
   "cell_type": "markdown",
   "id": "funky-shelter",
   "metadata": {},
   "source": [
    "# Cumulative Distribution Functions"
   ]
  },
  {
   "cell_type": "markdown",
   "id": "durable-stomach",
   "metadata": {},
   "source": [
    "Why not pmf?\n",
    "\n",
    "If there are more values, their probabilities gets reduced."
   ]
  },
  {
   "cell_type": "code",
   "execution_count": 1,
   "id": "timely-graphic",
   "metadata": {},
   "outputs": [],
   "source": [
    "# include packages\n",
    "\n",
    "import numpy as np\n",
    "import pandas as pd\n",
    "import matplotlib.pyplot as plt\n",
    "import os"
   ]
  },
  {
   "cell_type": "code",
   "execution_count": 2,
   "id": "powerful-cannon",
   "metadata": {},
   "outputs": [],
   "source": [
    "# random numbers\n",
    "\n",
    "rnums = np.random.randint(100, size=(1000))"
   ]
  },
  {
   "cell_type": "code",
   "execution_count": 3,
   "id": "adjustable-jones",
   "metadata": {},
   "outputs": [
    {
     "data": {
      "image/png": "[encoded data removed]",
      "text/plain": [
       "<Figure size 432x288 with 1 Axes>"
      ]
     },
     "metadata": {
      "needs_background": "light"
     },
     "output_type": "display_data"
    }
   ],
   "source": [
    "plt.hist(rnums, bins=100)\n",
    "plt.xlabel('Random Numbers')\n",
    "plt.ylabel('Frequency')\n",
    "plt.show()"
   ]
  },
  {
   "cell_type": "markdown",
   "id": "dress-explorer",
   "metadata": {},
   "source": [
    "Binning\n",
    "\n",
    "<pre>\n",
    "Dividing the values into intervals and counting the number of values in the intervals\n",
    "[1,2,3,4,5,6,7,8]\n",
    "bins=4\n",
    "bin1 = [1,2]; bin2 = [3,4]; bin3 = [5,6]; bin4 = [7,8]\n",
    "<pre>"
   ]
  },
  {
   "cell_type": "markdown",
   "id": "fluid-tournament",
   "metadata": {},
   "source": [
    "## Percentiles"
   ]
  },
  {
   "cell_type": "code",
   "execution_count": 4,
   "id": "successful-toronto",
   "metadata": {},
   "outputs": [],
   "source": [
    "# percentile\n",
    "\n",
    "def PercentileRank(scores, yourscore):\n",
    "    count = 0\n",
    "    for score in scores:\n",
    "        if yourscore >= score:\n",
    "            count += 1\n",
    "    return 100 * count / len(scores)\n",
    "\n",
    "def Percentile(scores, percentile_rank):\n",
    "    scores.sort()\n",
    "    index = int(percentile_rank * (len(scores)-1) // 100)\n",
    "    return scores[index]"
   ]
  },
  {
   "cell_type": "code",
   "execution_count": 5,
   "id": "celtic-tactics",
   "metadata": {},
   "outputs": [],
   "source": [
    "scores = [1, 2, 3, 4, 5, 6, 7, 8, 9, 10]"
   ]
  },
  {
   "cell_type": "code",
   "execution_count": 6,
   "id": "divided-pioneer",
   "metadata": {},
   "outputs": [
    {
     "data": {
      "text/plain": [
       "50.0"
      ]
     },
     "execution_count": 6,
     "metadata": {},
     "output_type": "execute_result"
    }
   ],
   "source": [
    "PercentileRank(scores, 5)"
   ]
  },
  {
   "cell_type": "code",
   "execution_count": 7,
   "id": "conceptual-plaza",
   "metadata": {},
   "outputs": [
    {
     "data": {
      "text/plain": [
       "5"
      ]
     },
     "execution_count": 7,
     "metadata": {},
     "output_type": "execute_result"
    }
   ],
   "source": [
    "Percentile(scores, 50)"
   ]
  },
  {
   "cell_type": "markdown",
   "id": "iraqi-karma",
   "metadata": {},
   "source": [
    "## CDF"
   ]
  },
  {
   "cell_type": "markdown",
   "id": "engaging-fellow",
   "metadata": {},
   "source": [
    "CDF maps from a value to its percentile rank"
   ]
  },
  {
   "cell_type": "code",
   "execution_count": 8,
   "id": "expressed-length",
   "metadata": {},
   "outputs": [],
   "source": [
    "# CDF\n",
    "\n",
    "def EvalCDF(sample, x):\n",
    "    count = 0\n",
    "    for value in sample:\n",
    "        if value <= x:\n",
    "            count += 1\n",
    "    return count / len(scores)\n",
    "\n",
    "def CDF(sample):\n",
    "    cdfdict = {}\n",
    "    for value in range(min(sample)-1, max(sample)+1):\n",
    "        cdfdict[value] = EvalCDF(sample, value)\n",
    "    return cdfdict"
   ]
  },
  {
   "cell_type": "code",
   "execution_count": 9,
   "id": "objective-journalism",
   "metadata": {},
   "outputs": [
    {
     "name": "stdout",
     "output_type": "stream",
     "text": [
      "CDF of 0: 0.0\n",
      "CDF of 1: 0.1\n",
      "CDF of 2: 0.3\n",
      "CDF of 3: 0.4\n",
      "CDF of 4: 0.4\n",
      "CDF of 5: 0.5\n"
     ]
    }
   ],
   "source": [
    "sample = [1, 2, 2, 3, 5]\n",
    "cdfdict = CDF(sample)\n",
    "for key in cdfdict:\n",
    "    print(f'CDF of {key}: {cdfdict[key]}')"
   ]
  },
  {
   "cell_type": "code",
   "execution_count": 10,
   "id": "contemporary-eleven",
   "metadata": {},
   "outputs": [
    {
     "data": {
      "image/png": "[encoded data removed]",
      "text/plain": [
       "<Figure size 432x288 with 1 Axes>"
      ]
     },
     "metadata": {
      "needs_background": "light"
     },
     "output_type": "display_data"
    }
   ],
   "source": [
    "plt.step(x=cdfdict.keys(),y=cdfdict.values())\n",
    "plt.xlabel('Random Numbers')\n",
    "plt.ylabel('CDF')\n",
    "plt.show()"
   ]
  },
  {
   "cell_type": "code",
   "execution_count": 11,
   "id": "comprehensive-minutes",
   "metadata": {},
   "outputs": [
    {
     "data": {
      "image/png": "[encoded data removed]",
      "text/plain": [
       "<Figure size 432x288 with 1 Axes>"
      ]
     },
     "metadata": {
      "needs_background": "light"
     },
     "output_type": "display_data"
    }
   ],
   "source": [
    "# comparing CDFs\n",
    "\n",
    "sample1 = [1, 1, 2, 2, 3, 4, 5, 5, 5, 6]\n",
    "sample2 = [1, 1, 1, 1, 2, 2, 2, 3, 4, 6]\n",
    "cdfdict1 = CDF(sample1)\n",
    "cdfdict2 = CDF(sample2)\n",
    "plt.step(x=cdfdict1.keys(), y=cdfdict1.values(), label='sample 1')\n",
    "plt.step(x=cdfdict2.keys(), y=cdfdict2.values(), label='sample 2')\n",
    "plt.legend()\n",
    "plt.xlabel('values')\n",
    "plt.ylabel('CDF')\n",
    "plt.show()"
   ]
  },
  {
   "cell_type": "markdown",
   "id": "constitutional-rachel",
   "metadata": {},
   "source": [
    "## Percentile-based Statistics"
   ]
  },
  {
   "cell_type": "markdown",
   "id": "740658b6-99e4-4102-9462-094d2a7eaaea",
   "metadata": {},
   "source": [
    "- 50th percentile that divides the values in half is the **median**\n",
    "- Difference between 75th percentile and 25th percentile is **IQR** (interquartile range)"
   ]
  },
  {
   "cell_type": "code",
   "execution_count": 12,
   "id": "answering-architecture",
   "metadata": {},
   "outputs": [],
   "source": [
    "# read data\n",
    "# source - https://www.kaggle.com/datasets/davidgdong/marvel-cinematic-universe-box-office-dataset\n",
    "\n",
    "csv_file = os.getcwd() + r'/dataset/mcu_box_office.csv'\n",
    "df = pd.read_csv(csv_file)"
   ]
  },
  {
   "cell_type": "code",
   "execution_count": 13,
   "id": "b9217850-db59-4ceb-97db-a7af14ebed69",
   "metadata": {},
   "outputs": [
    {
     "data": {
      "text/html": [
       "<div>\n",
       "<style scoped>\n",
       "    .dataframe tbody tr th:only-of-type {\n",
       "        vertical-align: middle;\n",
       "    }\n",
       "\n",
       "    .dataframe tbody tr th {\n",
       "        vertical-align: top;\n",
       "    }\n",
       "\n",
       "    .dataframe thead th {\n",
       "        text-align: right;\n",
       "    }\n",
       "</style>\n",
       "<table border=\"1\" class=\"dataframe\">\n",
       "  <thead>\n",
       "    <tr style=\"text-align: right;\">\n",
       "      <th></th>\n",
       "      <th>movie_title</th>\n",
       "      <th>mcu_phase</th>\n",
       "      <th>release_date</th>\n",
       "      <th>tomato_meter</th>\n",
       "      <th>audience_score</th>\n",
       "      <th>movie_duration</th>\n",
       "      <th>production_budget</th>\n",
       "      <th>opening_weekend</th>\n",
       "      <th>domestic_box_office</th>\n",
       "      <th>worldwide_box_office</th>\n",
       "    </tr>\n",
       "  </thead>\n",
       "  <tbody>\n",
       "    <tr>\n",
       "      <th>0</th>\n",
       "      <td>Iron Man</td>\n",
       "      <td>1</td>\n",
       "      <td>5/2/2008</td>\n",
       "      <td>94</td>\n",
       "      <td>91</td>\n",
       "      <td>126</td>\n",
       "      <td>186,000,000</td>\n",
       "      <td>102,118,668</td>\n",
       "      <td>318,604,126</td>\n",
       "      <td>585,171,547</td>\n",
       "    </tr>\n",
       "    <tr>\n",
       "      <th>1</th>\n",
       "      <td>The Incredible Hulk</td>\n",
       "      <td>1</td>\n",
       "      <td>6/13/2008</td>\n",
       "      <td>67</td>\n",
       "      <td>70</td>\n",
       "      <td>112</td>\n",
       "      <td>137,500,000</td>\n",
       "      <td>55,414,050</td>\n",
       "      <td>134,806,913</td>\n",
       "      <td>265,573,859</td>\n",
       "    </tr>\n",
       "    <tr>\n",
       "      <th>2</th>\n",
       "      <td>Iron Man 2</td>\n",
       "      <td>1</td>\n",
       "      <td>5/7/2010</td>\n",
       "      <td>72</td>\n",
       "      <td>71</td>\n",
       "      <td>124</td>\n",
       "      <td>170,000,000</td>\n",
       "      <td>128,122,480</td>\n",
       "      <td>312,433,331</td>\n",
       "      <td>621,156,389</td>\n",
       "    </tr>\n",
       "    <tr>\n",
       "      <th>3</th>\n",
       "      <td>Thor</td>\n",
       "      <td>1</td>\n",
       "      <td>5/6/2011</td>\n",
       "      <td>77</td>\n",
       "      <td>76</td>\n",
       "      <td>113</td>\n",
       "      <td>150,000,000</td>\n",
       "      <td>65,723,338</td>\n",
       "      <td>181,030,624</td>\n",
       "      <td>449,326,618</td>\n",
       "    </tr>\n",
       "    <tr>\n",
       "      <th>4</th>\n",
       "      <td>Captain America: The First Avenger</td>\n",
       "      <td>1</td>\n",
       "      <td>7/22/2011</td>\n",
       "      <td>79</td>\n",
       "      <td>75</td>\n",
       "      <td>124</td>\n",
       "      <td>140,000,000</td>\n",
       "      <td>65,058,524</td>\n",
       "      <td>176,654,505</td>\n",
       "      <td>370,569,776</td>\n",
       "    </tr>\n",
       "  </tbody>\n",
       "</table>\n",
       "</div>"
      ],
      "text/plain": [
       "                          movie_title  mcu_phase release_date  tomato_meter  \\\n",
       "0                            Iron Man          1     5/2/2008            94   \n",
       "1                 The Incredible Hulk          1    6/13/2008            67   \n",
       "2                          Iron Man 2          1     5/7/2010            72   \n",
       "3                                Thor          1     5/6/2011            77   \n",
       "4  Captain America: The First Avenger          1    7/22/2011            79   \n",
       "\n",
       "   audience_score  movie_duration production_budget opening_weekend  \\\n",
       "0              91             126       186,000,000     102,118,668   \n",
       "1              70             112       137,500,000      55,414,050   \n",
       "2              71             124       170,000,000     128,122,480   \n",
       "3              76             113       150,000,000      65,723,338   \n",
       "4              75             124       140,000,000      65,058,524   \n",
       "\n",
       "  domestic_box_office worldwide_box_office  \n",
       "0         318,604,126          585,171,547  \n",
       "1         134,806,913          265,573,859  \n",
       "2         312,433,331          621,156,389  \n",
       "3         181,030,624          449,326,618  \n",
       "4         176,654,505          370,569,776  "
      ]
     },
     "execution_count": 13,
     "metadata": {},
     "output_type": "execute_result"
    }
   ],
   "source": [
    "df.head()"
   ]
  },
  {
   "cell_type": "code",
   "execution_count": 14,
   "id": "bd80c0b5-e6bc-4691-9554-1cad31a724fd",
   "metadata": {},
   "outputs": [
    {
     "data": {
      "text/plain": [
       "87"
      ]
     },
     "execution_count": 14,
     "metadata": {},
     "output_type": "execute_result"
    }
   ],
   "source": [
    "# median\n",
    "\n",
    "Percentile(df['audience_score'].to_list(), 50)"
   ]
  },
  {
   "cell_type": "markdown",
   "id": "1e34e975-dffb-4b8a-ac30-9bc224f15571",
   "metadata": {},
   "source": [
    "Median of the audience score is 87 and is calculated by 50th percentile."
   ]
  },
  {
   "cell_type": "code",
   "execution_count": 15,
   "id": "7324bf89-68d0-4e69-9661-f49dca953d18",
   "metadata": {},
   "outputs": [
    {
     "data": {
      "text/plain": [
       "13"
      ]
     },
     "execution_count": 15,
     "metadata": {},
     "output_type": "execute_result"
    }
   ],
   "source": [
    "# interquartile range\n",
    "\n",
    "Percentile(df['audience_score'].to_list(), 75) - Percentile(df['audience_score'].to_list(), 25)"
   ]
  },
  {
   "cell_type": "markdown",
   "id": "c24c7acc-f9ce-4b06-904c-5852f54a07dc",
   "metadata": {},
   "source": [
    "IQR is used to find the spread of distribution.\n",
    "Here the spread is minimum."
   ]
  }
 ],
 "metadata": {
  "kernelspec": {
   "display_name": "Python 3",
   "language": "python",
   "name": "python3"
  },
  "language_info": {
   "codemirror_mode": {
    "name": "ipython",
    "version": 3
   },
   "file_extension": ".py",
   "mimetype": "text/x-python",
   "name": "python",
   "nbconvert_exporter": "python",
   "pygments_lexer": "ipython3",
   "version": "3.9.1"
  }
 },
 "nbformat": 4,
 "nbformat_minor": 5
}
