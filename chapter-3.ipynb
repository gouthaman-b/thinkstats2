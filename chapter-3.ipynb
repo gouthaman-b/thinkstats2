{
 "cells": [
  {
   "cell_type": "markdown",
   "id": "copyrighted-frame",
   "metadata": {},
   "source": [
    "# Probability Mass Function\n"
   ]
  },
  {
   "cell_type": "markdown",
   "id": "renewable-rwanda",
   "metadata": {},
   "source": [
    "## PMF\n",
    "\n",
    "probability of values"
   ]
  },
  {
   "cell_type": "code",
   "execution_count": 1,
   "id": "patent-significance",
   "metadata": {},
   "outputs": [],
   "source": [
    "# include packages\n",
    "\n",
    "import numpy as np\n",
    "import pandas as pd\n",
    "import matplotlib.pyplot as plt\n",
    "import os"
   ]
  },
  {
   "cell_type": "code",
   "execution_count": 2,
   "id": "amazing-bridal",
   "metadata": {},
   "outputs": [],
   "source": [
    "# Probability Mass Function\n",
    "def PMF(l):\n",
    "    d = {}\n",
    "    n = len(l)\n",
    "    for i in l:\n",
    "        d[i] = d.get(i, 0) + (1/n)\n",
    "    return d\n",
    "\n",
    "# Sum of Probabilities\n",
    "def TotalPMF(d):\n",
    "    s = 0\n",
    "    for i in d:\n",
    "        s += d[i]\n",
    "    return s"
   ]
  },
  {
   "cell_type": "code",
   "execution_count": 3,
   "id": "average-problem",
   "metadata": {},
   "outputs": [
    {
     "name": "stdout",
     "output_type": "stream",
     "text": [
      "{1: 0.16666666666666666, 2: 0.3333333333333333, 3: 0.16666666666666666, 5: 0.3333333333333333}\n",
      "total : 1.0\n"
     ]
    }
   ],
   "source": [
    "l = [1,2,2,3,5,5]\n",
    "\n",
    "print(PMF(l))\n",
    "print(\"total :\", TotalPMF(PMF(l)))"
   ]
  },
  {
   "cell_type": "code",
   "execution_count": 4,
   "id": "binary-pierre",
   "metadata": {},
   "outputs": [
    {
     "data": {
      "text/plain": [
       "<BarContainer object of 4 artists>"
      ]
     },
     "execution_count": 4,
     "metadata": {},
     "output_type": "execute_result"
    },
    {
     "data": {
      "image/png": "[encoded data removed]",
      "text/plain": [
       "<Figure size 432x288 with 1 Axes>"
      ]
     },
     "metadata": {
      "needs_background": "light"
     },
     "output_type": "display_data"
    }
   ],
   "source": [
    "# plot\n",
    "\n",
    "pmf = PMF(l)\n",
    "pltval = pmf.keys()\n",
    "plthgt = pmf.values()\n",
    "plt.bar(pltval, plthgt)"
   ]
  },
  {
   "cell_type": "markdown",
   "id": "after-public",
   "metadata": {},
   "source": [
    "## Distribution of cyclist data"
   ]
  },
  {
   "cell_type": "code",
   "execution_count": 5,
   "id": "killing-summit",
   "metadata": {},
   "outputs": [],
   "source": [
    "# read data\n",
    "# source - https://www.kaggle.com/datasets/bkvishwas/cyclistic-case-study\n",
    "\n",
    "csv_file = os.getcwd() + r'/dataset/cyclistic.csv'\n",
    "df = pd.read_csv(csv_file)"
   ]
  },
  {
   "cell_type": "code",
   "execution_count": 6,
   "id": "liked-consciousness",
   "metadata": {},
   "outputs": [
    {
     "data": {
      "text/html": [
       "<div>\n",
       "<style scoped>\n",
       "    .dataframe tbody tr th:only-of-type {\n",
       "        vertical-align: middle;\n",
       "    }\n",
       "\n",
       "    .dataframe tbody tr th {\n",
       "        vertical-align: top;\n",
       "    }\n",
       "\n",
       "    .dataframe thead th {\n",
       "        text-align: right;\n",
       "    }\n",
       "</style>\n",
       "<table border=\"1\" class=\"dataframe\">\n",
       "  <thead>\n",
       "    <tr style=\"text-align: right;\">\n",
       "      <th></th>\n",
       "      <th>all_trips_v2$member_casual</th>\n",
       "      <th>all_trips_v2$day_of_week</th>\n",
       "      <th>all_trips_v2$ride_length</th>\n",
       "    </tr>\n",
       "  </thead>\n",
       "  <tbody>\n",
       "    <tr>\n",
       "      <th>0</th>\n",
       "      <td>casual</td>\n",
       "      <td>Sunday</td>\n",
       "      <td>3581.405388</td>\n",
       "    </tr>\n",
       "    <tr>\n",
       "      <th>1</th>\n",
       "      <td>member</td>\n",
       "      <td>Sunday</td>\n",
       "      <td>919.974616</td>\n",
       "    </tr>\n",
       "    <tr>\n",
       "      <th>2</th>\n",
       "      <td>casual</td>\n",
       "      <td>Monday</td>\n",
       "      <td>3372.286923</td>\n",
       "    </tr>\n",
       "    <tr>\n",
       "      <th>3</th>\n",
       "      <td>member</td>\n",
       "      <td>Monday</td>\n",
       "      <td>842.572569</td>\n",
       "    </tr>\n",
       "    <tr>\n",
       "      <th>4</th>\n",
       "      <td>casual</td>\n",
       "      <td>Tuesday</td>\n",
       "      <td>3596.359949</td>\n",
       "    </tr>\n",
       "  </tbody>\n",
       "</table>\n",
       "</div>"
      ],
      "text/plain": [
       "  all_trips_v2$member_casual all_trips_v2$day_of_week  \\\n",
       "0                     casual                   Sunday   \n",
       "1                     member                   Sunday   \n",
       "2                     casual                   Monday   \n",
       "3                     member                   Monday   \n",
       "4                     casual                  Tuesday   \n",
       "\n",
       "   all_trips_v2$ride_length  \n",
       "0               3581.405388  \n",
       "1                919.974616  \n",
       "2               3372.286923  \n",
       "3                842.572569  \n",
       "4               3596.359949  "
      ]
     },
     "execution_count": 6,
     "metadata": {},
     "output_type": "execute_result"
    }
   ],
   "source": [
    "df.head()"
   ]
  },
  {
   "cell_type": "code",
   "execution_count": 7,
   "id": "tender-chosen",
   "metadata": {},
   "outputs": [],
   "source": [
    "casual_riders = df[df['all_trips_v2$member_casual']=='casual']\n",
    "member_riders = df[df['all_trips_v2$member_casual']=='member']"
   ]
  },
  {
   "cell_type": "code",
   "execution_count": 8,
   "id": "sixth-nelson",
   "metadata": {},
   "outputs": [
    {
     "data": {
      "text/plain": [
       "<BarContainer object of 7 artists>"
      ]
     },
     "execution_count": 8,
     "metadata": {},
     "output_type": "execute_result"
    },
    {
     "data": {
      "image/png": "[encoded data removed]",
      "text/plain": [
       "<Figure size 432x288 with 1 Axes>"
      ]
     },
     "metadata": {
      "needs_background": "light"
     },
     "output_type": "display_data"
    }
   ],
   "source": [
    "# ride length for casual riders\n",
    "\n",
    "plt.bar(casual_riders['all_trips_v2$day_of_week'],casual_riders['all_trips_v2$ride_length'])"
   ]
  },
  {
   "cell_type": "code",
   "execution_count": 9,
   "id": "difficult-medicaid",
   "metadata": {},
   "outputs": [
    {
     "data": {
      "text/plain": [
       "[<matplotlib.lines.Line2D at 0x1d5cf7d1430>]"
      ]
     },
     "execution_count": 9,
     "metadata": {},
     "output_type": "execute_result"
    },
    {
     "data": {
      "image/png": "[encoded data removed]",
      "text/plain": [
       "<Figure size 432x288 with 1 Axes>"
      ]
     },
     "metadata": {
      "needs_background": "light"
     },
     "output_type": "display_data"
    }
   ],
   "source": [
    "plt.step(casual_riders['all_trips_v2$day_of_week'],casual_riders['all_trips_v2$ride_length'])"
   ]
  },
  {
   "cell_type": "code",
   "execution_count": 10,
   "id": "relative-restaurant",
   "metadata": {
    "scrolled": true
   },
   "outputs": [
    {
     "data": {
      "text/plain": [
       "<BarContainer object of 7 artists>"
      ]
     },
     "execution_count": 10,
     "metadata": {},
     "output_type": "execute_result"
    },
    {
     "data": {
      "image/png": "[encoded data removed]",
      "text/plain": [
       "<Figure size 432x288 with 1 Axes>"
      ]
     },
     "metadata": {
      "needs_background": "light"
     },
     "output_type": "display_data"
    }
   ],
   "source": [
    "# ride length for member riders\n",
    "\n",
    "plt.bar(member_riders['all_trips_v2$day_of_week'],member_riders['all_trips_v2$ride_length'])"
   ]
  },
  {
   "cell_type": "code",
   "execution_count": 11,
   "id": "boring-virus",
   "metadata": {
    "scrolled": true
   },
   "outputs": [
    {
     "data": {
      "text/plain": [
       "[<matplotlib.lines.Line2D at 0x1d5cf883af0>]"
      ]
     },
     "execution_count": 11,
     "metadata": {},
     "output_type": "execute_result"
    },
    {
     "data": {
      "image/png": "[encoded data removed]",
      "text/plain": [
       "<Figure size 432x288 with 1 Axes>"
      ]
     },
     "metadata": {
      "needs_background": "light"
     },
     "output_type": "display_data"
    }
   ],
   "source": [
    "plt.step(member_riders['all_trips_v2$day_of_week'],member_riders['all_trips_v2$ride_length'])"
   ]
  },
  {
   "cell_type": "code",
   "execution_count": 12,
   "id": "orange-clothing",
   "metadata": {
    "scrolled": true
   },
   "outputs": [
    {
     "data": {
      "text/plain": [
       "<BarContainer object of 14 artists>"
      ]
     },
     "execution_count": 12,
     "metadata": {},
     "output_type": "execute_result"
    },
    {
     "data": {
      "image/png": "[encoded data removed]",
      "text/plain": [
       "<Figure size 432x288 with 1 Axes>"
      ]
     },
     "metadata": {
      "needs_background": "light"
     },
     "output_type": "display_data"
    }
   ],
   "source": [
    "# ride length for both casual and member\n",
    "\n",
    "plt.bar(df['all_trips_v2$day_of_week'],df['all_trips_v2$ride_length'])"
   ]
  },
  {
   "cell_type": "code",
   "execution_count": 13,
   "id": "royal-treaty",
   "metadata": {},
   "outputs": [
    {
     "data": {
      "text/plain": [
       "3579.635397197527"
      ]
     },
     "execution_count": 13,
     "metadata": {},
     "output_type": "execute_result"
    }
   ],
   "source": [
    "# average ride length for casual riders\n",
    "\n",
    "casual_riders['all_trips_v2$ride_length'].mean()"
   ]
  },
  {
   "cell_type": "code",
   "execution_count": 14,
   "id": "minimal-aruba",
   "metadata": {},
   "outputs": [
    {
     "data": {
      "text/plain": [
       "861.4402299168477"
      ]
     },
     "execution_count": 14,
     "metadata": {},
     "output_type": "execute_result"
    }
   ],
   "source": [
    "# average ride length for member riders\n",
    "\n",
    "member_riders['all_trips_v2$ride_length'].mean()"
   ]
  },
  {
   "cell_type": "markdown",
   "id": "substantial-movie",
   "metadata": {},
   "source": [
    "The average ride length of both the riders are very different."
   ]
  },
  {
   "cell_type": "markdown",
   "id": "sticky-mexico",
   "metadata": {},
   "source": [
    "## DataFrame Indexing"
   ]
  },
  {
   "cell_type": "code",
   "execution_count": 15,
   "id": "narrow-costs",
   "metadata": {},
   "outputs": [
    {
     "data": {
      "text/html": [
       "<div>\n",
       "<style scoped>\n",
       "    .dataframe tbody tr th:only-of-type {\n",
       "        vertical-align: middle;\n",
       "    }\n",
       "\n",
       "    .dataframe tbody tr th {\n",
       "        vertical-align: top;\n",
       "    }\n",
       "\n",
       "    .dataframe thead th {\n",
       "        text-align: right;\n",
       "    }\n",
       "</style>\n",
       "<table border=\"1\" class=\"dataframe\">\n",
       "  <thead>\n",
       "    <tr style=\"text-align: right;\">\n",
       "      <th></th>\n",
       "      <th>0</th>\n",
       "      <th>1</th>\n",
       "    </tr>\n",
       "  </thead>\n",
       "  <tbody>\n",
       "    <tr>\n",
       "      <th>0</th>\n",
       "      <td>-0.683798</td>\n",
       "      <td>1.602226</td>\n",
       "    </tr>\n",
       "    <tr>\n",
       "      <th>1</th>\n",
       "      <td>0.441266</td>\n",
       "      <td>0.828512</td>\n",
       "    </tr>\n",
       "    <tr>\n",
       "      <th>2</th>\n",
       "      <td>0.484581</td>\n",
       "      <td>0.909514</td>\n",
       "    </tr>\n",
       "    <tr>\n",
       "      <th>3</th>\n",
       "      <td>0.712761</td>\n",
       "      <td>0.895623</td>\n",
       "    </tr>\n",
       "    <tr>\n",
       "      <th>4</th>\n",
       "      <td>0.326398</td>\n",
       "      <td>0.100830</td>\n",
       "    </tr>\n",
       "  </tbody>\n",
       "</table>\n",
       "</div>"
      ],
      "text/plain": [
       "          0         1\n",
       "0 -0.683798  1.602226\n",
       "1  0.441266  0.828512\n",
       "2  0.484581  0.909514\n",
       "3  0.712761  0.895623\n",
       "4  0.326398  0.100830"
      ]
     },
     "execution_count": 15,
     "metadata": {},
     "output_type": "execute_result"
    }
   ],
   "source": [
    "array = np.random.randn(5,2)\n",
    "df = pd.DataFrame(array)\n",
    "df"
   ]
  },
  {
   "cell_type": "code",
   "execution_count": 16,
   "id": "textile-jordan",
   "metadata": {},
   "outputs": [
    {
     "data": {
      "text/html": [
       "<div>\n",
       "<style scoped>\n",
       "    .dataframe tbody tr th:only-of-type {\n",
       "        vertical-align: middle;\n",
       "    }\n",
       "\n",
       "    .dataframe tbody tr th {\n",
       "        vertical-align: top;\n",
       "    }\n",
       "\n",
       "    .dataframe thead th {\n",
       "        text-align: right;\n",
       "    }\n",
       "</style>\n",
       "<table border=\"1\" class=\"dataframe\">\n",
       "  <thead>\n",
       "    <tr style=\"text-align: right;\">\n",
       "      <th></th>\n",
       "      <th>A</th>\n",
       "      <th>B</th>\n",
       "    </tr>\n",
       "  </thead>\n",
       "  <tbody>\n",
       "    <tr>\n",
       "      <th>0</th>\n",
       "      <td>-0.683798</td>\n",
       "      <td>1.602226</td>\n",
       "    </tr>\n",
       "    <tr>\n",
       "      <th>1</th>\n",
       "      <td>0.441266</td>\n",
       "      <td>0.828512</td>\n",
       "    </tr>\n",
       "    <tr>\n",
       "      <th>2</th>\n",
       "      <td>0.484581</td>\n",
       "      <td>0.909514</td>\n",
       "    </tr>\n",
       "    <tr>\n",
       "      <th>3</th>\n",
       "      <td>0.712761</td>\n",
       "      <td>0.895623</td>\n",
       "    </tr>\n",
       "    <tr>\n",
       "      <th>4</th>\n",
       "      <td>0.326398</td>\n",
       "      <td>0.100830</td>\n",
       "    </tr>\n",
       "  </tbody>\n",
       "</table>\n",
       "</div>"
      ],
      "text/plain": [
       "          A         B\n",
       "0 -0.683798  1.602226\n",
       "1  0.441266  0.828512\n",
       "2  0.484581  0.909514\n",
       "3  0.712761  0.895623\n",
       "4  0.326398  0.100830"
      ]
     },
     "execution_count": 16,
     "metadata": {},
     "output_type": "execute_result"
    }
   ],
   "source": [
    "# naming columns\n",
    "\n",
    "df = pd.DataFrame(array, columns=['A', 'B'])\n",
    "df"
   ]
  },
  {
   "cell_type": "code",
   "execution_count": 17,
   "id": "renewable-choir",
   "metadata": {},
   "outputs": [
    {
     "data": {
      "text/html": [
       "<div>\n",
       "<style scoped>\n",
       "    .dataframe tbody tr th:only-of-type {\n",
       "        vertical-align: middle;\n",
       "    }\n",
       "\n",
       "    .dataframe tbody tr th {\n",
       "        vertical-align: top;\n",
       "    }\n",
       "\n",
       "    .dataframe thead th {\n",
       "        text-align: right;\n",
       "    }\n",
       "</style>\n",
       "<table border=\"1\" class=\"dataframe\">\n",
       "  <thead>\n",
       "    <tr style=\"text-align: right;\">\n",
       "      <th></th>\n",
       "      <th>A</th>\n",
       "      <th>B</th>\n",
       "    </tr>\n",
       "  </thead>\n",
       "  <tbody>\n",
       "    <tr>\n",
       "      <th>a</th>\n",
       "      <td>-0.683798</td>\n",
       "      <td>1.602226</td>\n",
       "    </tr>\n",
       "    <tr>\n",
       "      <th>b</th>\n",
       "      <td>0.441266</td>\n",
       "      <td>0.828512</td>\n",
       "    </tr>\n",
       "    <tr>\n",
       "      <th>c</th>\n",
       "      <td>0.484581</td>\n",
       "      <td>0.909514</td>\n",
       "    </tr>\n",
       "    <tr>\n",
       "      <th>d</th>\n",
       "      <td>0.712761</td>\n",
       "      <td>0.895623</td>\n",
       "    </tr>\n",
       "    <tr>\n",
       "      <th>e</th>\n",
       "      <td>0.326398</td>\n",
       "      <td>0.100830</td>\n",
       "    </tr>\n",
       "  </tbody>\n",
       "</table>\n",
       "</div>"
      ],
      "text/plain": [
       "          A         B\n",
       "a -0.683798  1.602226\n",
       "b  0.441266  0.828512\n",
       "c  0.484581  0.909514\n",
       "d  0.712761  0.895623\n",
       "e  0.326398  0.100830"
      ]
     },
     "execution_count": 17,
     "metadata": {},
     "output_type": "execute_result"
    }
   ],
   "source": [
    "# naming index\n",
    "\n",
    "df = pd.DataFrame(array, columns=['A', 'B'], index=['a','b','c','d','e'])\n",
    "df"
   ]
  },
  {
   "cell_type": "code",
   "execution_count": 18,
   "id": "continent-density",
   "metadata": {},
   "outputs": [
    {
     "data": {
      "text/plain": [
       "A   -0.683798\n",
       "B    1.602226\n",
       "Name: a, dtype: float64"
      ]
     },
     "execution_count": 18,
     "metadata": {},
     "output_type": "execute_result"
    }
   ],
   "source": [
    "df.loc['a']"
   ]
  },
  {
   "cell_type": "code",
   "execution_count": 19,
   "id": "written-degree",
   "metadata": {},
   "outputs": [
    {
     "data": {
      "text/plain": [
       "A   -0.683798\n",
       "B    1.602226\n",
       "Name: a, dtype: float64"
      ]
     },
     "execution_count": 19,
     "metadata": {},
     "output_type": "execute_result"
    }
   ],
   "source": [
    "df.iloc[0]"
   ]
  },
  {
   "cell_type": "code",
   "execution_count": 20,
   "id": "amateur-israeli",
   "metadata": {},
   "outputs": [
    {
     "data": {
      "text/html": [
       "<div>\n",
       "<style scoped>\n",
       "    .dataframe tbody tr th:only-of-type {\n",
       "        vertical-align: middle;\n",
       "    }\n",
       "\n",
       "    .dataframe tbody tr th {\n",
       "        vertical-align: top;\n",
       "    }\n",
       "\n",
       "    .dataframe thead th {\n",
       "        text-align: right;\n",
       "    }\n",
       "</style>\n",
       "<table border=\"1\" class=\"dataframe\">\n",
       "  <thead>\n",
       "    <tr style=\"text-align: right;\">\n",
       "      <th></th>\n",
       "      <th>A</th>\n",
       "      <th>B</th>\n",
       "    </tr>\n",
       "  </thead>\n",
       "  <tbody>\n",
       "    <tr>\n",
       "      <th>a</th>\n",
       "      <td>-0.683798</td>\n",
       "      <td>1.602226</td>\n",
       "    </tr>\n",
       "    <tr>\n",
       "      <th>b</th>\n",
       "      <td>0.441266</td>\n",
       "      <td>0.828512</td>\n",
       "    </tr>\n",
       "    <tr>\n",
       "      <th>c</th>\n",
       "      <td>0.484581</td>\n",
       "      <td>0.909514</td>\n",
       "    </tr>\n",
       "  </tbody>\n",
       "</table>\n",
       "</div>"
      ],
      "text/plain": [
       "          A         B\n",
       "a -0.683798  1.602226\n",
       "b  0.441266  0.828512\n",
       "c  0.484581  0.909514"
      ]
     },
     "execution_count": 20,
     "metadata": {},
     "output_type": "execute_result"
    }
   ],
   "source": [
    "# Slicing\n",
    "\n",
    "df['a':'c']"
   ]
  },
  {
   "cell_type": "code",
   "execution_count": 21,
   "id": "traditional-turtle",
   "metadata": {},
   "outputs": [
    {
     "data": {
      "text/html": [
       "<div>\n",
       "<style scoped>\n",
       "    .dataframe tbody tr th:only-of-type {\n",
       "        vertical-align: middle;\n",
       "    }\n",
       "\n",
       "    .dataframe tbody tr th {\n",
       "        vertical-align: top;\n",
       "    }\n",
       "\n",
       "    .dataframe thead th {\n",
       "        text-align: right;\n",
       "    }\n",
       "</style>\n",
       "<table border=\"1\" class=\"dataframe\">\n",
       "  <thead>\n",
       "    <tr style=\"text-align: right;\">\n",
       "      <th></th>\n",
       "      <th>A</th>\n",
       "      <th>B</th>\n",
       "    </tr>\n",
       "  </thead>\n",
       "  <tbody>\n",
       "    <tr>\n",
       "      <th>a</th>\n",
       "      <td>-0.683798</td>\n",
       "      <td>1.602226</td>\n",
       "    </tr>\n",
       "    <tr>\n",
       "      <th>b</th>\n",
       "      <td>0.441266</td>\n",
       "      <td>0.828512</td>\n",
       "    </tr>\n",
       "  </tbody>\n",
       "</table>\n",
       "</div>"
      ],
      "text/plain": [
       "          A         B\n",
       "a -0.683798  1.602226\n",
       "b  0.441266  0.828512"
      ]
     },
     "execution_count": 21,
     "metadata": {},
     "output_type": "execute_result"
    }
   ],
   "source": [
    "df[0:2]"
   ]
  },
  {
   "cell_type": "markdown",
   "id": "introductory-dress",
   "metadata": {},
   "source": [
    "## Calculating Mean and Variance by PMF"
   ]
  },
  {
   "cell_type": "code",
   "execution_count": 22,
   "id": "diverse-marking",
   "metadata": {},
   "outputs": [],
   "source": [
    "def PmfMean(d):\n",
    "    mean = 0\n",
    "    for i in d:\n",
    "        mean += d[i]*i\n",
    "    return mean\n",
    "\n",
    "def PmfVar(d, mean):\n",
    "    var = 0\n",
    "    for i in d:\n",
    "        var += d[i]*((i - mean)**2)\n",
    "    return var"
   ]
  },
  {
   "cell_type": "code",
   "execution_count": 23,
   "id": "subtle-confusion",
   "metadata": {},
   "outputs": [
    {
     "name": "stdout",
     "output_type": "stream",
     "text": [
      "3.0\n",
      "2.333333333333333\n"
     ]
    }
   ],
   "source": [
    "l = [1,2,2,3,5,5]\n",
    "\n",
    "pmfmean = PmfMean(PMF(l))\n",
    "print(pmfmean)\n",
    "pmfvar = PmfVar(PMF(l), pmfmean)\n",
    "print(pmfvar)"
   ]
  }
 ],
 "metadata": {
  "kernelspec": {
   "display_name": "Python 3",
   "language": "python",
   "name": "python3"
  },
  "language_info": {
   "codemirror_mode": {
    "name": "ipython",
    "version": 3
   },
   "file_extension": ".py",
   "mimetype": "text/x-python",
   "name": "python",
   "nbconvert_exporter": "python",
   "pygments_lexer": "ipython3",
   "version": "3.9.1"
  }
 },
 "nbformat": 4,
 "nbformat_minor": 5
}
